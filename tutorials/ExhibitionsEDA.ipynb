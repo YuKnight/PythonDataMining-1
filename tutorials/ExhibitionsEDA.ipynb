{
 "cells": [
  {
   "cell_type": "markdown",
   "metadata": {},
   "source": [
    "# 目的：由會議室使用情況數據集，了解會議室的使用情況。問題：例：於某年某月的時候，會議室A有在使用的天數共有幾天？"
   ]
  },
  {
   "cell_type": "markdown",
   "metadata": {},
   "source": [
    "1. [匯入資料](#01)\n",
    "2. [檢查部分欄位是否有空值](#02)\n",
    "3. [將有空值欄位的橫列刪除](#03)\n",
    "4. [選出會議室為A的資料](#04)\n",
    "5. [由會議室日期，拓展出\"會議開始日期\"、\"會議結束日期\"和\"會議天數\"三個欄位](#05)\n",
    "6. [接著，將欄位\"會議開始日期\"和\"會議結束日期\"轉換成日期型別。轉為日期型別後，兩日期即可相減加一，得出會議天數](#06)\n",
    "7. [目標：建立 一資料表包含：活動名稱，活動日 兩個欄位。 最終我們將以此資料表來得出每個月有多少個活動天](#07)\n",
    "8. [以年和月做groupby，計算某年某月時，會議室共有幾天有在使用。並畫成長條圖](#08)\n",
    "9. [以上資料是離散的x,y,z形式，適合畫成熱圖(heatmap)。以下改把資料以Seaborn套件畫成熱圖](#09)"
   ]
  },
  {
   "cell_type": "markdown",
   "metadata": {},
   "source": [
    "---"
   ]
  },
  {
   "cell_type": "code",
   "execution_count": 1,
   "metadata": {
    "collapsed": true
   },
   "outputs": [],
   "source": [
    "import pandas as pd\n",
    "import re\n",
    "import os\n",
    "import datetime\n",
    "import numpy as np\n",
    "import matplotlib.pyplot as plt\n",
    "import seaborn as sns\n",
    "%matplotlib inline"
   ]
  },
  {
   "cell_type": "markdown",
   "metadata": {},
   "source": [
    "### <a id=\"01\"/> 匯入資料"
   ]
  },
  {
   "cell_type": "code",
   "execution_count": 2,
   "metadata": {},
   "outputs": [
    {
     "name": "stdout",
     "output_type": "stream",
     "text": [
      "BANK_LOC_ALL_AG.csv       BANK_LOC_ALL_AG_fixed.h5  exhibition_exercise.csv\r\n",
      "BANK_LOC_ALL_AG_fixed.csv exhibition.csv            \u001b[31miris.csv\u001b[m\u001b[m\r\n"
     ]
    }
   ],
   "source": [
    "!ls ../datasets"
   ]
  },
  {
   "cell_type": "code",
   "execution_count": 3,
   "metadata": {},
   "outputs": [],
   "source": [
    "os.chdir('../datasets')"
   ]
  },
  {
   "cell_type": "code",
   "execution_count": 4,
   "metadata": {},
   "outputs": [
    {
     "name": "stdout",
     "output_type": "stream",
     "text": [
      "BANK_LOC_ALL_AG.csv       exhibition.csv            \u001b[31miris.csv\u001b[m\u001b[m\r\n",
      "BANK_LOC_ALL_AG_fixed.csv exhibition_exercise.csv\r\n"
     ]
    }
   ],
   "source": [
    "!ls *.csv"
   ]
  },
  {
   "cell_type": "code",
   "execution_count": 5,
   "metadata": {},
   "outputs": [],
   "source": [
    "df=pd.DataFrame.from_csv(\"exhibition.csv\",index_col=None)"
   ]
  },
  {
   "cell_type": "code",
   "execution_count": 6,
   "metadata": {},
   "outputs": [
    {
     "data": {
      "text/html": [
       "<div>\n",
       "<table border=\"1\" class=\"dataframe\">\n",
       "  <thead>\n",
       "    <tr style=\"text-align: right;\">\n",
       "      <th></th>\n",
       "      <th>活動名稱</th>\n",
       "      <th>會議室</th>\n",
       "      <th>會議室日期</th>\n",
       "      <th>會議室時間</th>\n",
       "      <th>會議室時段數</th>\n",
       "    </tr>\n",
       "  </thead>\n",
       "  <tbody>\n",
       "    <tr>\n",
       "      <th>0</th>\n",
       "      <td>**********</td>\n",
       "      <td>A</td>\n",
       "      <td>98/12/02-98/12/02</td>\n",
       "      <td>08:30-12:30</td>\n",
       "      <td>1</td>\n",
       "    </tr>\n",
       "    <tr>\n",
       "      <th>1</th>\n",
       "      <td>**********</td>\n",
       "      <td>B</td>\n",
       "      <td>100/04/14-100/04/14</td>\n",
       "      <td>18:30-22:30</td>\n",
       "      <td>1</td>\n",
       "    </tr>\n",
       "    <tr>\n",
       "      <th>2</th>\n",
       "      <td>**********</td>\n",
       "      <td>A</td>\n",
       "      <td>99/05/03-99/05/03</td>\n",
       "      <td>18:30-22:30</td>\n",
       "      <td>1</td>\n",
       "    </tr>\n",
       "    <tr>\n",
       "      <th>3</th>\n",
       "      <td>**********</td>\n",
       "      <td>A</td>\n",
       "      <td>97/03/27-97/03/27</td>\n",
       "      <td>08:30-17:30</td>\n",
       "      <td>2</td>\n",
       "    </tr>\n",
       "    <tr>\n",
       "      <th>4</th>\n",
       "      <td>**********</td>\n",
       "      <td>A</td>\n",
       "      <td>99/05/06-99/05/06</td>\n",
       "      <td>08:30-17:30</td>\n",
       "      <td>2</td>\n",
       "    </tr>\n",
       "  </tbody>\n",
       "</table>\n",
       "</div>"
      ],
      "text/plain": [
       "         活動名稱 會議室                會議室日期        會議室時間  會議室時段數\n",
       "0  **********   A    98/12/02-98/12/02  08:30-12:30       1\n",
       "1  **********   B  100/04/14-100/04/14  18:30-22:30       1\n",
       "2  **********   A    99/05/03-99/05/03  18:30-22:30       1\n",
       "3  **********   A    97/03/27-97/03/27  08:30-17:30       2\n",
       "4  **********   A    99/05/06-99/05/06  08:30-17:30       2"
      ]
     },
     "execution_count": 6,
     "metadata": {},
     "output_type": "execute_result"
    }
   ],
   "source": [
    "df[:5]"
   ]
  },
  {
   "cell_type": "code",
   "execution_count": 7,
   "metadata": {},
   "outputs": [
    {
     "data": {
      "text/plain": [
       "299"
      ]
     },
     "execution_count": 7,
     "metadata": {},
     "output_type": "execute_result"
    }
   ],
   "source": [
    "np.sum(df['活動名稱']=='**********')"
   ]
  },
  {
   "cell_type": "code",
   "execution_count": 8,
   "metadata": {},
   "outputs": [
    {
     "data": {
      "text/plain": [
       "(299, 5)"
      ]
     },
     "execution_count": 8,
     "metadata": {},
     "output_type": "execute_result"
    }
   ],
   "source": [
    "df.shape"
   ]
  },
  {
   "cell_type": "markdown",
   "metadata": {},
   "source": [
    "此資料的\"活動名稱\"欄位已經完全加密，因此該欄位不具意義。"
   ]
  },
  {
   "cell_type": "markdown",
   "metadata": {},
   "source": [
    "### <a id=\"02\"/> 檢查欄位是否有空值"
   ]
  },
  {
   "cell_type": "code",
   "execution_count": 9,
   "metadata": {},
   "outputs": [
    {
     "data": {
      "text/plain": [
       "活動名稱      0\n",
       "會議室       0\n",
       "會議室日期     3\n",
       "會議室時間     0\n",
       "會議室時段數    0\n",
       "dtype: int64"
      ]
     },
     "execution_count": 9,
     "metadata": {},
     "output_type": "execute_result"
    }
   ],
   "source": [
    "df.isnull().sum()"
   ]
  },
  {
   "cell_type": "code",
   "execution_count": 10,
   "metadata": {},
   "outputs": [
    {
     "data": {
      "text/html": [
       "<div>\n",
       "<table border=\"1\" class=\"dataframe\">\n",
       "  <thead>\n",
       "    <tr style=\"text-align: right;\">\n",
       "      <th></th>\n",
       "      <th>活動名稱</th>\n",
       "      <th>會議室</th>\n",
       "      <th>會議室日期</th>\n",
       "      <th>會議室時間</th>\n",
       "      <th>會議室時段數</th>\n",
       "    </tr>\n",
       "  </thead>\n",
       "  <tbody>\n",
       "    <tr>\n",
       "      <th>228</th>\n",
       "      <td>**********</td>\n",
       "      <td>B</td>\n",
       "      <td>NaN</td>\n",
       "      <td>08:30-17:30</td>\n",
       "      <td>2</td>\n",
       "    </tr>\n",
       "    <tr>\n",
       "      <th>261</th>\n",
       "      <td>**********</td>\n",
       "      <td>A</td>\n",
       "      <td>NaN</td>\n",
       "      <td>18:30-19:30</td>\n",
       "      <td>1</td>\n",
       "    </tr>\n",
       "    <tr>\n",
       "      <th>285</th>\n",
       "      <td>**********</td>\n",
       "      <td>A</td>\n",
       "      <td>NaN</td>\n",
       "      <td>08:30-17:30</td>\n",
       "      <td>4</td>\n",
       "    </tr>\n",
       "  </tbody>\n",
       "</table>\n",
       "</div>"
      ],
      "text/plain": [
       "           活動名稱 會議室 會議室日期        會議室時間  會議室時段數\n",
       "228  **********   B   NaN  08:30-17:30       2\n",
       "261  **********   A   NaN  18:30-19:30       1\n",
       "285  **********   A   NaN  08:30-17:30       4"
      ]
     },
     "execution_count": 10,
     "metadata": {},
     "output_type": "execute_result"
    }
   ],
   "source": [
    "df[df['會議室日期'].isnull()]"
   ]
  },
  {
   "cell_type": "markdown",
   "metadata": {},
   "source": [
    "### <a id=\"03\"/>  將有空值欄位的橫列刪除"
   ]
  },
  {
   "cell_type": "code",
   "execution_count": 11,
   "metadata": {},
   "outputs": [],
   "source": [
    "df=df.dropna(axis=0,how='any')"
   ]
  },
  {
   "cell_type": "code",
   "execution_count": 12,
   "metadata": {},
   "outputs": [
    {
     "data": {
      "text/plain": [
       "活動名稱      0\n",
       "會議室       0\n",
       "會議室日期     0\n",
       "會議室時間     0\n",
       "會議室時段數    0\n",
       "dtype: int64"
      ]
     },
     "execution_count": 12,
     "metadata": {},
     "output_type": "execute_result"
    }
   ],
   "source": [
    "df.isnull().sum()"
   ]
  },
  {
   "cell_type": "markdown",
   "metadata": {},
   "source": [
    "### <a id=\"04\"/>  選出會議室為A的資料"
   ]
  },
  {
   "cell_type": "code",
   "execution_count": 13,
   "metadata": {},
   "outputs": [],
   "source": [
    "df=df[df['會議室']=='A']"
   ]
  },
  {
   "cell_type": "markdown",
   "metadata": {},
   "source": [
    "將DataFrame的索引重新排序"
   ]
  },
  {
   "cell_type": "code",
   "execution_count": 14,
   "metadata": {},
   "outputs": [],
   "source": [
    "df=df.reset_index(drop=True)"
   ]
  },
  {
   "cell_type": "markdown",
   "metadata": {},
   "source": [
    "### <a id=\"05\"/>由會議室日期，拓展出\"會議開始日期\"、\"會議結束日期\"和\"會議天數\"三個欄位"
   ]
  },
  {
   "cell_type": "code",
   "execution_count": 15,
   "metadata": {
    "collapsed": true
   },
   "outputs": [],
   "source": [
    "def datePeriodTrans(x):\n",
    "    row=re.search('^(.*)/(.*/.*)-(.*)/(.*/.*)$',x).groups()\n",
    "    return str(int(row[0])+1911)+'/'+row[1],str(int(row[2])+1911)+'/'+row[3]"
   ]
  },
  {
   "cell_type": "code",
   "execution_count": 16,
   "metadata": {},
   "outputs": [
    {
     "data": {
      "text/plain": [
       "pandas.core.series.Series"
      ]
     },
     "execution_count": 16,
     "metadata": {},
     "output_type": "execute_result"
    }
   ],
   "source": [
    "type(df['會議室日期'])"
   ]
  },
  {
   "cell_type": "code",
   "execution_count": 17,
   "metadata": {},
   "outputs": [],
   "source": [
    "timeSer=df['會議室日期'].apply(datePeriodTrans)"
   ]
  },
  {
   "cell_type": "code",
   "execution_count": 18,
   "metadata": {},
   "outputs": [
    {
     "data": {
      "text/plain": [
       "0    (2009/12/02, 2009/12/02)\n",
       "1    (2010/05/03, 2010/05/03)\n",
       "2    (2008/03/27, 2008/03/27)\n",
       "Name: 會議室日期, dtype: object"
      ]
     },
     "execution_count": 18,
     "metadata": {},
     "output_type": "execute_result"
    }
   ],
   "source": [
    "timeSer.head(3)"
   ]
  },
  {
   "cell_type": "code",
   "execution_count": 19,
   "metadata": {
    "collapsed": true
   },
   "outputs": [],
   "source": [
    "timeCols=pd.DataFrame(list(timeSer),columns=('會議開始日期','會議結束日期'))"
   ]
  },
  {
   "cell_type": "code",
   "execution_count": 20,
   "metadata": {},
   "outputs": [
    {
     "data": {
      "text/html": [
       "<div>\n",
       "<table border=\"1\" class=\"dataframe\">\n",
       "  <thead>\n",
       "    <tr style=\"text-align: right;\">\n",
       "      <th></th>\n",
       "      <th>會議開始日期</th>\n",
       "      <th>會議結束日期</th>\n",
       "    </tr>\n",
       "  </thead>\n",
       "  <tbody>\n",
       "    <tr>\n",
       "      <th>0</th>\n",
       "      <td>2009/12/02</td>\n",
       "      <td>2009/12/02</td>\n",
       "    </tr>\n",
       "    <tr>\n",
       "      <th>1</th>\n",
       "      <td>2010/05/03</td>\n",
       "      <td>2010/05/03</td>\n",
       "    </tr>\n",
       "    <tr>\n",
       "      <th>2</th>\n",
       "      <td>2008/03/27</td>\n",
       "      <td>2008/03/27</td>\n",
       "    </tr>\n",
       "  </tbody>\n",
       "</table>\n",
       "</div>"
      ],
      "text/plain": [
       "       會議開始日期      會議結束日期\n",
       "0  2009/12/02  2009/12/02\n",
       "1  2010/05/03  2010/05/03\n",
       "2  2008/03/27  2008/03/27"
      ]
     },
     "execution_count": 20,
     "metadata": {},
     "output_type": "execute_result"
    }
   ],
   "source": [
    "timeCols.head(3)"
   ]
  },
  {
   "cell_type": "code",
   "execution_count": 21,
   "metadata": {},
   "outputs": [
    {
     "data": {
      "text/plain": [
       "(225, 5)"
      ]
     },
     "execution_count": 21,
     "metadata": {},
     "output_type": "execute_result"
    }
   ],
   "source": [
    "df.shape"
   ]
  },
  {
   "cell_type": "code",
   "execution_count": 22,
   "metadata": {},
   "outputs": [
    {
     "data": {
      "text/plain": [
       "(225, 2)"
      ]
     },
     "execution_count": 22,
     "metadata": {},
     "output_type": "execute_result"
    }
   ],
   "source": [
    "timeCols.shape"
   ]
  },
  {
   "cell_type": "code",
   "execution_count": 23,
   "metadata": {},
   "outputs": [],
   "source": [
    "dfDatesAdded=pd.concat([df,timeCols],axis=1)"
   ]
  },
  {
   "cell_type": "code",
   "execution_count": 24,
   "metadata": {},
   "outputs": [
    {
     "data": {
      "text/html": [
       "<div>\n",
       "<table border=\"1\" class=\"dataframe\">\n",
       "  <thead>\n",
       "    <tr style=\"text-align: right;\">\n",
       "      <th></th>\n",
       "      <th>活動名稱</th>\n",
       "      <th>會議室</th>\n",
       "      <th>會議室日期</th>\n",
       "      <th>會議室時間</th>\n",
       "      <th>會議室時段數</th>\n",
       "      <th>會議開始日期</th>\n",
       "      <th>會議結束日期</th>\n",
       "    </tr>\n",
       "  </thead>\n",
       "  <tbody>\n",
       "    <tr>\n",
       "      <th>0</th>\n",
       "      <td>**********</td>\n",
       "      <td>A</td>\n",
       "      <td>98/12/02-98/12/02</td>\n",
       "      <td>08:30-12:30</td>\n",
       "      <td>1</td>\n",
       "      <td>2009/12/02</td>\n",
       "      <td>2009/12/02</td>\n",
       "    </tr>\n",
       "    <tr>\n",
       "      <th>1</th>\n",
       "      <td>**********</td>\n",
       "      <td>A</td>\n",
       "      <td>99/05/03-99/05/03</td>\n",
       "      <td>18:30-22:30</td>\n",
       "      <td>1</td>\n",
       "      <td>2010/05/03</td>\n",
       "      <td>2010/05/03</td>\n",
       "    </tr>\n",
       "    <tr>\n",
       "      <th>2</th>\n",
       "      <td>**********</td>\n",
       "      <td>A</td>\n",
       "      <td>97/03/27-97/03/27</td>\n",
       "      <td>08:30-17:30</td>\n",
       "      <td>2</td>\n",
       "      <td>2008/03/27</td>\n",
       "      <td>2008/03/27</td>\n",
       "    </tr>\n",
       "  </tbody>\n",
       "</table>\n",
       "</div>"
      ],
      "text/plain": [
       "         活動名稱 會議室              會議室日期        會議室時間  會議室時段數      會議開始日期  \\\n",
       "0  **********   A  98/12/02-98/12/02  08:30-12:30       1  2009/12/02   \n",
       "1  **********   A  99/05/03-99/05/03  18:30-22:30       1  2010/05/03   \n",
       "2  **********   A  97/03/27-97/03/27  08:30-17:30       2  2008/03/27   \n",
       "\n",
       "       會議結束日期  \n",
       "0  2009/12/02  \n",
       "1  2010/05/03  \n",
       "2  2008/03/27  "
      ]
     },
     "execution_count": 24,
     "metadata": {},
     "output_type": "execute_result"
    }
   ],
   "source": [
    "dfDatesAdded.head(3)"
   ]
  },
  {
   "cell_type": "markdown",
   "metadata": {},
   "source": [
    "### <a id=\"06\"/>接著，將欄位\"會議開始日期\"和\"會議結束日期\"轉換成日期型別。轉為日期型別後，兩日期即可相減加一，得出會議天數"
   ]
  },
  {
   "cell_type": "code",
   "execution_count": 25,
   "metadata": {},
   "outputs": [
    {
     "data": {
      "text/plain": [
       "活動名稱      object\n",
       "會議室       object\n",
       "會議室日期     object\n",
       "會議室時間     object\n",
       "會議室時段數     int64\n",
       "會議開始日期    object\n",
       "會議結束日期    object\n",
       "dtype: object"
      ]
     },
     "execution_count": 25,
     "metadata": {},
     "output_type": "execute_result"
    }
   ],
   "source": [
    "dfDatesAdded.dtypes"
   ]
  },
  {
   "cell_type": "code",
   "execution_count": 26,
   "metadata": {},
   "outputs": [],
   "source": [
    "dfDatesAdded['會議開始日期'] = pd.to_datetime(dfDatesAdded['會議開始日期'],yearfirst=True)\n",
    "dfDatesAdded['會議結束日期'] = pd.to_datetime(dfDatesAdded['會議結束日期'],yearfirst=True)"
   ]
  },
  {
   "cell_type": "code",
   "execution_count": 27,
   "metadata": {},
   "outputs": [
    {
     "data": {
      "text/plain": [
       "活動名稱              object\n",
       "會議室               object\n",
       "會議室日期             object\n",
       "會議室時間             object\n",
       "會議室時段數             int64\n",
       "會議開始日期    datetime64[ns]\n",
       "會議結束日期    datetime64[ns]\n",
       "dtype: object"
      ]
     },
     "execution_count": 27,
     "metadata": {},
     "output_type": "execute_result"
    }
   ],
   "source": [
    "dfDatesAdded.dtypes"
   ]
  },
  {
   "cell_type": "code",
   "execution_count": 28,
   "metadata": {},
   "outputs": [
    {
     "data": {
      "text/plain": [
       "Timestamp('2009-12-02 00:00:00')"
      ]
     },
     "execution_count": 28,
     "metadata": {},
     "output_type": "execute_result"
    }
   ],
   "source": [
    "dfDatesAdded.loc[0,'會議開始日期']"
   ]
  },
  {
   "cell_type": "code",
   "execution_count": 29,
   "metadata": {},
   "outputs": [
    {
     "data": {
      "text/plain": [
       "False"
      ]
     },
     "execution_count": 29,
     "metadata": {},
     "output_type": "execute_result"
    }
   ],
   "source": [
    "dfDatesAdded.loc[0,'會議開始日期']-dfDatesAdded.loc[0,'會議結束日期']== datetime.timedelta(-2)"
   ]
  },
  {
   "cell_type": "code",
   "execution_count": 30,
   "metadata": {},
   "outputs": [],
   "source": [
    "dfDatesAdded['會議天數'] = dfDatesAdded['會議結束日期']-dfDatesAdded['會議開始日期']+datetime.timedelta(1)"
   ]
  },
  {
   "cell_type": "code",
   "execution_count": 31,
   "metadata": {},
   "outputs": [
    {
     "data": {
      "text/html": [
       "<div>\n",
       "<table border=\"1\" class=\"dataframe\">\n",
       "  <thead>\n",
       "    <tr style=\"text-align: right;\">\n",
       "      <th></th>\n",
       "      <th>活動名稱</th>\n",
       "      <th>會議室</th>\n",
       "      <th>會議室日期</th>\n",
       "      <th>會議室時間</th>\n",
       "      <th>會議室時段數</th>\n",
       "      <th>會議開始日期</th>\n",
       "      <th>會議結束日期</th>\n",
       "      <th>會議天數</th>\n",
       "    </tr>\n",
       "  </thead>\n",
       "  <tbody>\n",
       "    <tr>\n",
       "      <th>0</th>\n",
       "      <td>**********</td>\n",
       "      <td>A</td>\n",
       "      <td>98/12/02-98/12/02</td>\n",
       "      <td>08:30-12:30</td>\n",
       "      <td>1</td>\n",
       "      <td>2009-12-02</td>\n",
       "      <td>2009-12-02</td>\n",
       "      <td>1 days</td>\n",
       "    </tr>\n",
       "    <tr>\n",
       "      <th>1</th>\n",
       "      <td>**********</td>\n",
       "      <td>A</td>\n",
       "      <td>99/05/03-99/05/03</td>\n",
       "      <td>18:30-22:30</td>\n",
       "      <td>1</td>\n",
       "      <td>2010-05-03</td>\n",
       "      <td>2010-05-03</td>\n",
       "      <td>1 days</td>\n",
       "    </tr>\n",
       "    <tr>\n",
       "      <th>2</th>\n",
       "      <td>**********</td>\n",
       "      <td>A</td>\n",
       "      <td>97/03/27-97/03/27</td>\n",
       "      <td>08:30-17:30</td>\n",
       "      <td>2</td>\n",
       "      <td>2008-03-27</td>\n",
       "      <td>2008-03-27</td>\n",
       "      <td>1 days</td>\n",
       "    </tr>\n",
       "    <tr>\n",
       "      <th>3</th>\n",
       "      <td>**********</td>\n",
       "      <td>A</td>\n",
       "      <td>99/05/06-99/05/06</td>\n",
       "      <td>08:30-17:30</td>\n",
       "      <td>2</td>\n",
       "      <td>2010-05-06</td>\n",
       "      <td>2010-05-06</td>\n",
       "      <td>1 days</td>\n",
       "    </tr>\n",
       "    <tr>\n",
       "      <th>4</th>\n",
       "      <td>**********</td>\n",
       "      <td>A</td>\n",
       "      <td>99/08/27-99/08/27</td>\n",
       "      <td>18:30-22:30</td>\n",
       "      <td>1</td>\n",
       "      <td>2010-08-27</td>\n",
       "      <td>2010-08-27</td>\n",
       "      <td>1 days</td>\n",
       "    </tr>\n",
       "    <tr>\n",
       "      <th>5</th>\n",
       "      <td>**********</td>\n",
       "      <td>A</td>\n",
       "      <td>99/12/03-99/12/03</td>\n",
       "      <td>18:30-22:30</td>\n",
       "      <td>1</td>\n",
       "      <td>2010-12-03</td>\n",
       "      <td>2010-12-03</td>\n",
       "      <td>1 days</td>\n",
       "    </tr>\n",
       "    <tr>\n",
       "      <th>6</th>\n",
       "      <td>**********</td>\n",
       "      <td>A</td>\n",
       "      <td>98/12/17-98/12/18</td>\n",
       "      <td>08:30-17:30</td>\n",
       "      <td>4</td>\n",
       "      <td>2009-12-17</td>\n",
       "      <td>2009-12-18</td>\n",
       "      <td>2 days</td>\n",
       "    </tr>\n",
       "    <tr>\n",
       "      <th>7</th>\n",
       "      <td>**********</td>\n",
       "      <td>A</td>\n",
       "      <td>99/10/16-99/10/16</td>\n",
       "      <td>08:30-12:30</td>\n",
       "      <td>1</td>\n",
       "      <td>2010-10-16</td>\n",
       "      <td>2010-10-16</td>\n",
       "      <td>1 days</td>\n",
       "    </tr>\n",
       "    <tr>\n",
       "      <th>8</th>\n",
       "      <td>**********</td>\n",
       "      <td>A</td>\n",
       "      <td>100/04/12-100/04/12</td>\n",
       "      <td>08:30-22:30</td>\n",
       "      <td>3</td>\n",
       "      <td>2011-04-12</td>\n",
       "      <td>2011-04-12</td>\n",
       "      <td>1 days</td>\n",
       "    </tr>\n",
       "    <tr>\n",
       "      <th>9</th>\n",
       "      <td>**********</td>\n",
       "      <td>A</td>\n",
       "      <td>100/01/03-100/01/03</td>\n",
       "      <td>08:30-17:30</td>\n",
       "      <td>2</td>\n",
       "      <td>2011-01-03</td>\n",
       "      <td>2011-01-03</td>\n",
       "      <td>1 days</td>\n",
       "    </tr>\n",
       "  </tbody>\n",
       "</table>\n",
       "</div>"
      ],
      "text/plain": [
       "         活動名稱 會議室                會議室日期        會議室時間  會議室時段數     會議開始日期  \\\n",
       "0  **********   A    98/12/02-98/12/02  08:30-12:30       1 2009-12-02   \n",
       "1  **********   A    99/05/03-99/05/03  18:30-22:30       1 2010-05-03   \n",
       "2  **********   A    97/03/27-97/03/27  08:30-17:30       2 2008-03-27   \n",
       "3  **********   A    99/05/06-99/05/06  08:30-17:30       2 2010-05-06   \n",
       "4  **********   A    99/08/27-99/08/27  18:30-22:30       1 2010-08-27   \n",
       "5  **********   A    99/12/03-99/12/03  18:30-22:30       1 2010-12-03   \n",
       "6  **********   A    98/12/17-98/12/18  08:30-17:30       4 2009-12-17   \n",
       "7  **********   A    99/10/16-99/10/16  08:30-12:30       1 2010-10-16   \n",
       "8  **********   A  100/04/12-100/04/12  08:30-22:30       3 2011-04-12   \n",
       "9  **********   A  100/01/03-100/01/03  08:30-17:30       2 2011-01-03   \n",
       "\n",
       "      會議結束日期   會議天數  \n",
       "0 2009-12-02 1 days  \n",
       "1 2010-05-03 1 days  \n",
       "2 2008-03-27 1 days  \n",
       "3 2010-05-06 1 days  \n",
       "4 2010-08-27 1 days  \n",
       "5 2010-12-03 1 days  \n",
       "6 2009-12-18 2 days  \n",
       "7 2010-10-16 1 days  \n",
       "8 2011-04-12 1 days  \n",
       "9 2011-01-03 1 days  "
      ]
     },
     "execution_count": 31,
     "metadata": {},
     "output_type": "execute_result"
    }
   ],
   "source": [
    "dfDatesAdded.head(10)"
   ]
  },
  {
   "cell_type": "code",
   "execution_count": 32,
   "metadata": {},
   "outputs": [],
   "source": [
    "d=dfDatesAdded.loc[6,'會議天數']"
   ]
  },
  {
   "cell_type": "code",
   "execution_count": 33,
   "metadata": {},
   "outputs": [
    {
     "data": {
      "text/plain": [
       "2"
      ]
     },
     "execution_count": 33,
     "metadata": {},
     "output_type": "execute_result"
    }
   ],
   "source": [
    "d.days"
   ]
  },
  {
   "cell_type": "code",
   "execution_count": 34,
   "metadata": {},
   "outputs": [],
   "source": [
    "times = pd.date_range(dfDatesAdded.loc[6,'會議開始日期'], periods=dfDatesAdded.loc[6,'會議天數'].days, freq='D')"
   ]
  },
  {
   "cell_type": "code",
   "execution_count": 35,
   "metadata": {},
   "outputs": [
    {
     "data": {
      "text/plain": [
       "DatetimeIndex(['2009-12-17', '2009-12-18'], dtype='datetime64[ns]', freq='D')"
      ]
     },
     "execution_count": 35,
     "metadata": {},
     "output_type": "execute_result"
    }
   ],
   "source": [
    "times"
   ]
  },
  {
   "cell_type": "code",
   "execution_count": 36,
   "metadata": {},
   "outputs": [
    {
     "data": {
      "text/plain": [
       "[Timestamp('2009-12-17 00:00:00', freq='D'),\n",
       " Timestamp('2009-12-18 00:00:00', freq='D')]"
      ]
     },
     "execution_count": 36,
     "metadata": {},
     "output_type": "execute_result"
    }
   ],
   "source": [
    "list(times)"
   ]
  },
  {
   "cell_type": "markdown",
   "metadata": {},
   "source": [
    "### <a id=\"07\"/> 目標：建立 一資料表包含：活動名稱，活動日 兩個欄位。 最終我們將以此資料表來得出每個月有多少個活動天"
   ]
  },
  {
   "cell_type": "code",
   "execution_count": 37,
   "metadata": {
    "collapsed": true
   },
   "outputs": [],
   "source": [
    "def tgen(row):\n",
    "    times=pd.date_range(row['會議開始日期'], periods=row['會議天數'].days, freq='D')\n",
    "    row['dates']=times\n",
    "    return row"
   ]
  },
  {
   "cell_type": "code",
   "execution_count": 38,
   "metadata": {},
   "outputs": [],
   "source": [
    "dfDatesAdded=dfDatesAdded.apply(tgen,axis=1)"
   ]
  },
  {
   "cell_type": "code",
   "execution_count": 39,
   "metadata": {},
   "outputs": [
    {
     "data": {
      "text/html": [
       "<div>\n",
       "<table border=\"1\" class=\"dataframe\">\n",
       "  <thead>\n",
       "    <tr style=\"text-align: right;\">\n",
       "      <th></th>\n",
       "      <th>活動名稱</th>\n",
       "      <th>會議室</th>\n",
       "      <th>會議室日期</th>\n",
       "      <th>會議室時間</th>\n",
       "      <th>會議室時段數</th>\n",
       "      <th>會議開始日期</th>\n",
       "      <th>會議結束日期</th>\n",
       "      <th>會議天數</th>\n",
       "      <th>dates</th>\n",
       "    </tr>\n",
       "  </thead>\n",
       "  <tbody>\n",
       "    <tr>\n",
       "      <th>0</th>\n",
       "      <td>**********</td>\n",
       "      <td>A</td>\n",
       "      <td>98/12/02-98/12/02</td>\n",
       "      <td>08:30-12:30</td>\n",
       "      <td>1</td>\n",
       "      <td>2009-12-02</td>\n",
       "      <td>2009-12-02</td>\n",
       "      <td>1 days</td>\n",
       "      <td>DatetimeIndex(['2009-12-02'], dtype='datetime6...</td>\n",
       "    </tr>\n",
       "    <tr>\n",
       "      <th>1</th>\n",
       "      <td>**********</td>\n",
       "      <td>A</td>\n",
       "      <td>99/05/03-99/05/03</td>\n",
       "      <td>18:30-22:30</td>\n",
       "      <td>1</td>\n",
       "      <td>2010-05-03</td>\n",
       "      <td>2010-05-03</td>\n",
       "      <td>1 days</td>\n",
       "      <td>DatetimeIndex(['2010-05-03'], dtype='datetime6...</td>\n",
       "    </tr>\n",
       "    <tr>\n",
       "      <th>2</th>\n",
       "      <td>**********</td>\n",
       "      <td>A</td>\n",
       "      <td>97/03/27-97/03/27</td>\n",
       "      <td>08:30-17:30</td>\n",
       "      <td>2</td>\n",
       "      <td>2008-03-27</td>\n",
       "      <td>2008-03-27</td>\n",
       "      <td>1 days</td>\n",
       "      <td>DatetimeIndex(['2008-03-27'], dtype='datetime6...</td>\n",
       "    </tr>\n",
       "  </tbody>\n",
       "</table>\n",
       "</div>"
      ],
      "text/plain": [
       "         活動名稱 會議室              會議室日期        會議室時間  會議室時段數     會議開始日期  \\\n",
       "0  **********   A  98/12/02-98/12/02  08:30-12:30       1 2009-12-02   \n",
       "1  **********   A  99/05/03-99/05/03  18:30-22:30       1 2010-05-03   \n",
       "2  **********   A  97/03/27-97/03/27  08:30-17:30       2 2008-03-27   \n",
       "\n",
       "      會議結束日期   會議天數                                              dates  \n",
       "0 2009-12-02 1 days  DatetimeIndex(['2009-12-02'], dtype='datetime6...  \n",
       "1 2010-05-03 1 days  DatetimeIndex(['2010-05-03'], dtype='datetime6...  \n",
       "2 2008-03-27 1 days  DatetimeIndex(['2008-03-27'], dtype='datetime6...  "
      ]
     },
     "execution_count": 39,
     "metadata": {},
     "output_type": "execute_result"
    }
   ],
   "source": [
    "dfDatesAdded.head(3)"
   ]
  },
  {
   "cell_type": "code",
   "execution_count": 40,
   "metadata": {},
   "outputs": [],
   "source": [
    "infoList=list(dfDatesAdded[['活動名稱','dates']].values)"
   ]
  },
  {
   "cell_type": "code",
   "execution_count": 41,
   "metadata": {},
   "outputs": [
    {
     "data": {
      "text/plain": [
       "[array(['**********',\n",
       "        DatetimeIndex(['2009-12-02'], dtype='datetime64[ns]', freq='D')], dtype=object)]"
      ]
     },
     "execution_count": 41,
     "metadata": {},
     "output_type": "execute_result"
    }
   ],
   "source": [
    "infoList[:1]"
   ]
  },
  {
   "cell_type": "code",
   "execution_count": 42,
   "metadata": {},
   "outputs": [],
   "source": [
    "mylist=[]\n",
    "for row in infoList:\n",
    "    for date in row[1]:\n",
    "        mylist.append((row[0],date))"
   ]
  },
  {
   "cell_type": "code",
   "execution_count": 43,
   "metadata": {},
   "outputs": [],
   "source": [
    "df=pd.DataFrame(mylist,columns=['title','date'])"
   ]
  },
  {
   "cell_type": "code",
   "execution_count": 44,
   "metadata": {},
   "outputs": [],
   "source": [
    "df=df.sort_values(by='date')"
   ]
  },
  {
   "cell_type": "code",
   "execution_count": 45,
   "metadata": {},
   "outputs": [
    {
     "data": {
      "text/plain": [
       "(244, 2)"
      ]
     },
     "execution_count": 45,
     "metadata": {},
     "output_type": "execute_result"
    }
   ],
   "source": [
    "df.shape"
   ]
  },
  {
   "cell_type": "code",
   "execution_count": 46,
   "metadata": {},
   "outputs": [
    {
     "data": {
      "text/html": [
       "<div>\n",
       "<table border=\"1\" class=\"dataframe\">\n",
       "  <thead>\n",
       "    <tr style=\"text-align: right;\">\n",
       "      <th></th>\n",
       "      <th>title</th>\n",
       "      <th>date</th>\n",
       "    </tr>\n",
       "  </thead>\n",
       "  <tbody>\n",
       "    <tr>\n",
       "      <th>20</th>\n",
       "      <td>**********</td>\n",
       "      <td>2007-01-10</td>\n",
       "    </tr>\n",
       "    <tr>\n",
       "      <th>78</th>\n",
       "      <td>**********</td>\n",
       "      <td>2007-01-14</td>\n",
       "    </tr>\n",
       "    <tr>\n",
       "      <th>41</th>\n",
       "      <td>**********</td>\n",
       "      <td>2007-01-14</td>\n",
       "    </tr>\n",
       "  </tbody>\n",
       "</table>\n",
       "</div>"
      ],
      "text/plain": [
       "         title       date\n",
       "20  ********** 2007-01-10\n",
       "78  ********** 2007-01-14\n",
       "41  ********** 2007-01-14"
      ]
     },
     "execution_count": 46,
     "metadata": {},
     "output_type": "execute_result"
    }
   ],
   "source": [
    "df.head(3)"
   ]
  },
  {
   "cell_type": "code",
   "execution_count": 47,
   "metadata": {},
   "outputs": [],
   "source": [
    "df['year']=df.date.apply(lambda x:x.year)"
   ]
  },
  {
   "cell_type": "code",
   "execution_count": 48,
   "metadata": {},
   "outputs": [],
   "source": [
    "df['month']=df.date.apply(lambda x:x.month)"
   ]
  },
  {
   "cell_type": "code",
   "execution_count": 49,
   "metadata": {},
   "outputs": [
    {
     "data": {
      "text/html": [
       "<div>\n",
       "<table border=\"1\" class=\"dataframe\">\n",
       "  <thead>\n",
       "    <tr style=\"text-align: right;\">\n",
       "      <th></th>\n",
       "      <th>title</th>\n",
       "      <th>date</th>\n",
       "      <th>year</th>\n",
       "      <th>month</th>\n",
       "    </tr>\n",
       "  </thead>\n",
       "  <tbody>\n",
       "    <tr>\n",
       "      <th>20</th>\n",
       "      <td>**********</td>\n",
       "      <td>2007-01-10</td>\n",
       "      <td>2007</td>\n",
       "      <td>1</td>\n",
       "    </tr>\n",
       "    <tr>\n",
       "      <th>78</th>\n",
       "      <td>**********</td>\n",
       "      <td>2007-01-14</td>\n",
       "      <td>2007</td>\n",
       "      <td>1</td>\n",
       "    </tr>\n",
       "    <tr>\n",
       "      <th>41</th>\n",
       "      <td>**********</td>\n",
       "      <td>2007-01-14</td>\n",
       "      <td>2007</td>\n",
       "      <td>1</td>\n",
       "    </tr>\n",
       "  </tbody>\n",
       "</table>\n",
       "</div>"
      ],
      "text/plain": [
       "         title       date  year  month\n",
       "20  ********** 2007-01-10  2007      1\n",
       "78  ********** 2007-01-14  2007      1\n",
       "41  ********** 2007-01-14  2007      1"
      ]
     },
     "execution_count": 49,
     "metadata": {},
     "output_type": "execute_result"
    }
   ],
   "source": [
    "df.head(3)"
   ]
  },
  {
   "cell_type": "code",
   "execution_count": 50,
   "metadata": {},
   "outputs": [
    {
     "data": {
      "text/plain": [
       "(244, 4)"
      ]
     },
     "execution_count": 50,
     "metadata": {},
     "output_type": "execute_result"
    }
   ],
   "source": [
    "df.shape"
   ]
  },
  {
   "cell_type": "markdown",
   "metadata": {},
   "source": [
    "同一天中，會議室A可以有不只一種活動，像是上午有活動xxx, 下午有活動yyy。但我們的目的只想統計該天是否有活動，而不在乎該天有多少活動。\n",
    "\n",
    "為此，我們將同一日期的多餘活動移除："
   ]
  },
  {
   "cell_type": "code",
   "execution_count": 51,
   "metadata": {},
   "outputs": [],
   "source": [
    "df=df.drop_duplicates('date')"
   ]
  },
  {
   "cell_type": "code",
   "execution_count": 52,
   "metadata": {},
   "outputs": [
    {
     "data": {
      "text/plain": [
       "(187, 4)"
      ]
     },
     "execution_count": 52,
     "metadata": {},
     "output_type": "execute_result"
    }
   ],
   "source": [
    "df.shape"
   ]
  },
  {
   "cell_type": "markdown",
   "metadata": {},
   "source": [
    "### <a id=\"08\"/>以年和月做groupby，計算某年某月時，會議室共有幾天有在使用。並畫成長條圖。"
   ]
  },
  {
   "cell_type": "code",
   "execution_count": 53,
   "metadata": {},
   "outputs": [],
   "source": [
    "grouped=df[['title','year','month']].groupby(['year','month'])"
   ]
  },
  {
   "cell_type": "code",
   "execution_count": 54,
   "metadata": {},
   "outputs": [],
   "source": [
    "cnt=grouped.count()"
   ]
  },
  {
   "cell_type": "code",
   "execution_count": 55,
   "metadata": {},
   "outputs": [],
   "source": [
    "cnt.columns=['number of days with activities']"
   ]
  },
  {
   "cell_type": "code",
   "execution_count": 56,
   "metadata": {},
   "outputs": [
    {
     "data": {
      "text/plain": [
       "<matplotlib.axes._subplots.AxesSubplot at 0x108c7ddd8>"
      ]
     },
     "execution_count": 56,
     "metadata": {},
     "output_type": "execute_result"
    },
    {
     "data": {
      "image/png": "[encoded data removed]",
      "text/plain": [
       "<matplotlib.figure.Figure at 0x108c85b70>"
      ]
     },
     "metadata": {},
     "output_type": "display_data"
    }
   ],
   "source": [
    "cnt.plot.bar(figsize=(15,5))"
   ]
  },
  {
   "cell_type": "markdown",
   "metadata": {
    "collapsed": true
   },
   "source": [
    "### <a id=\"09\"/>以上資料是離散的x,y,z形式，適合畫成熱圖(heatmap)。以下改把資料以Seaborn套件畫成熱圖"
   ]
  },
  {
   "cell_type": "code",
   "execution_count": 57,
   "metadata": {},
   "outputs": [
    {
     "data": {
      "text/html": [
       "<div>\n",
       "<table border=\"1\" class=\"dataframe\">\n",
       "  <thead>\n",
       "    <tr style=\"text-align: right;\">\n",
       "      <th></th>\n",
       "      <th></th>\n",
       "      <th>number of days with activities</th>\n",
       "    </tr>\n",
       "    <tr>\n",
       "      <th>year</th>\n",
       "      <th>month</th>\n",
       "      <th></th>\n",
       "    </tr>\n",
       "  </thead>\n",
       "  <tbody>\n",
       "    <tr>\n",
       "      <th rowspan=\"3\" valign=\"top\">2007</th>\n",
       "      <th>1</th>\n",
       "      <td>4</td>\n",
       "    </tr>\n",
       "    <tr>\n",
       "      <th>2</th>\n",
       "      <td>2</td>\n",
       "    </tr>\n",
       "    <tr>\n",
       "      <th>3</th>\n",
       "      <td>2</td>\n",
       "    </tr>\n",
       "  </tbody>\n",
       "</table>\n",
       "</div>"
      ],
      "text/plain": [
       "            number of days with activities\n",
       "year month                                \n",
       "2007 1                                   4\n",
       "     2                                   2\n",
       "     3                                   2"
      ]
     },
     "execution_count": 57,
     "metadata": {},
     "output_type": "execute_result"
    }
   ],
   "source": [
    "cnt[:3]"
   ]
  },
  {
   "cell_type": "code",
   "execution_count": 58,
   "metadata": {},
   "outputs": [
    {
     "data": {
      "text/html": [
       "<div>\n",
       "<table border=\"1\" class=\"dataframe\">\n",
       "  <thead>\n",
       "    <tr>\n",
       "      <th>year</th>\n",
       "      <th colspan=\"6\" halign=\"left\">2007</th>\n",
       "      <th colspan=\"4\" halign=\"left\">2008</th>\n",
       "      <th>...</th>\n",
       "      <th colspan=\"3\" halign=\"left\">2010</th>\n",
       "      <th colspan=\"7\" halign=\"left\">2011</th>\n",
       "    </tr>\n",
       "    <tr>\n",
       "      <th>month</th>\n",
       "      <th>1</th>\n",
       "      <th>2</th>\n",
       "      <th>3</th>\n",
       "      <th>4</th>\n",
       "      <th>7</th>\n",
       "      <th>10</th>\n",
       "      <th>1</th>\n",
       "      <th>3</th>\n",
       "      <th>4</th>\n",
       "      <th>7</th>\n",
       "      <th>...</th>\n",
       "      <th>10</th>\n",
       "      <th>11</th>\n",
       "      <th>12</th>\n",
       "      <th>1</th>\n",
       "      <th>3</th>\n",
       "      <th>4</th>\n",
       "      <th>9</th>\n",
       "      <th>10</th>\n",
       "      <th>11</th>\n",
       "      <th>12</th>\n",
       "    </tr>\n",
       "  </thead>\n",
       "  <tbody>\n",
       "    <tr>\n",
       "      <th>number of days with activities</th>\n",
       "      <td>4</td>\n",
       "      <td>2</td>\n",
       "      <td>2</td>\n",
       "      <td>1</td>\n",
       "      <td>1</td>\n",
       "      <td>2</td>\n",
       "      <td>6</td>\n",
       "      <td>3</td>\n",
       "      <td>2</td>\n",
       "      <td>1</td>\n",
       "      <td>...</td>\n",
       "      <td>7</td>\n",
       "      <td>1</td>\n",
       "      <td>12</td>\n",
       "      <td>9</td>\n",
       "      <td>11</td>\n",
       "      <td>6</td>\n",
       "      <td>4</td>\n",
       "      <td>2</td>\n",
       "      <td>1</td>\n",
       "      <td>2</td>\n",
       "    </tr>\n",
       "  </tbody>\n",
       "</table>\n",
       "<p>1 rows × 38 columns</p>\n",
       "</div>"
      ],
      "text/plain": [
       "year                           2007                2008          ... 2010     \\\n",
       "month                            1  2  3  4  7  10   1  3  4  7  ...   10 11   \n",
       "number of days with activities    4  2  2  1  1  2    6  3  2  1 ...    7  1   \n",
       "\n",
       "year                               2011                     \n",
       "month                           12   1   3  4  9  10 11 12  \n",
       "number of days with activities  12    9  11  6  4  2  1  2  \n",
       "\n",
       "[1 rows x 38 columns]"
      ]
     },
     "execution_count": 58,
     "metadata": {},
     "output_type": "execute_result"
    }
   ],
   "source": [
    "cnt.T"
   ]
  },
  {
   "cell_type": "code",
   "execution_count": 59,
   "metadata": {},
   "outputs": [
    {
     "data": {
      "text/html": [
       "<div>\n",
       "<table border=\"1\" class=\"dataframe\">\n",
       "  <thead>\n",
       "    <tr style=\"text-align: right;\">\n",
       "      <th></th>\n",
       "      <th>year</th>\n",
       "      <th>2007</th>\n",
       "      <th>2008</th>\n",
       "      <th>2009</th>\n",
       "      <th>2010</th>\n",
       "      <th>2011</th>\n",
       "    </tr>\n",
       "    <tr>\n",
       "      <th></th>\n",
       "      <th>month</th>\n",
       "      <th></th>\n",
       "      <th></th>\n",
       "      <th></th>\n",
       "      <th></th>\n",
       "      <th></th>\n",
       "    </tr>\n",
       "  </thead>\n",
       "  <tbody>\n",
       "    <tr>\n",
       "      <th rowspan=\"12\" valign=\"top\">number of days with activities</th>\n",
       "      <th>1</th>\n",
       "      <td>4.0</td>\n",
       "      <td>6.0</td>\n",
       "      <td>NaN</td>\n",
       "      <td>6</td>\n",
       "      <td>9.0</td>\n",
       "    </tr>\n",
       "    <tr>\n",
       "      <th>2</th>\n",
       "      <td>2.0</td>\n",
       "      <td>NaN</td>\n",
       "      <td>NaN</td>\n",
       "      <td>3</td>\n",
       "      <td>NaN</td>\n",
       "    </tr>\n",
       "    <tr>\n",
       "      <th>3</th>\n",
       "      <td>2.0</td>\n",
       "      <td>3.0</td>\n",
       "      <td>NaN</td>\n",
       "      <td>9</td>\n",
       "      <td>11.0</td>\n",
       "    </tr>\n",
       "    <tr>\n",
       "      <th>4</th>\n",
       "      <td>1.0</td>\n",
       "      <td>2.0</td>\n",
       "      <td>1.0</td>\n",
       "      <td>10</td>\n",
       "      <td>6.0</td>\n",
       "    </tr>\n",
       "    <tr>\n",
       "      <th>5</th>\n",
       "      <td>NaN</td>\n",
       "      <td>NaN</td>\n",
       "      <td>1.0</td>\n",
       "      <td>9</td>\n",
       "      <td>NaN</td>\n",
       "    </tr>\n",
       "    <tr>\n",
       "      <th>6</th>\n",
       "      <td>NaN</td>\n",
       "      <td>NaN</td>\n",
       "      <td>NaN</td>\n",
       "      <td>5</td>\n",
       "      <td>NaN</td>\n",
       "    </tr>\n",
       "    <tr>\n",
       "      <th>7</th>\n",
       "      <td>1.0</td>\n",
       "      <td>1.0</td>\n",
       "      <td>4.0</td>\n",
       "      <td>5</td>\n",
       "      <td>NaN</td>\n",
       "    </tr>\n",
       "    <tr>\n",
       "      <th>8</th>\n",
       "      <td>NaN</td>\n",
       "      <td>NaN</td>\n",
       "      <td>8.0</td>\n",
       "      <td>9</td>\n",
       "      <td>NaN</td>\n",
       "    </tr>\n",
       "    <tr>\n",
       "      <th>9</th>\n",
       "      <td>NaN</td>\n",
       "      <td>NaN</td>\n",
       "      <td>2.0</td>\n",
       "      <td>5</td>\n",
       "      <td>4.0</td>\n",
       "    </tr>\n",
       "    <tr>\n",
       "      <th>10</th>\n",
       "      <td>2.0</td>\n",
       "      <td>NaN</td>\n",
       "      <td>10.0</td>\n",
       "      <td>7</td>\n",
       "      <td>2.0</td>\n",
       "    </tr>\n",
       "    <tr>\n",
       "      <th>11</th>\n",
       "      <td>NaN</td>\n",
       "      <td>1.0</td>\n",
       "      <td>12.0</td>\n",
       "      <td>1</td>\n",
       "      <td>1.0</td>\n",
       "    </tr>\n",
       "    <tr>\n",
       "      <th>12</th>\n",
       "      <td>NaN</td>\n",
       "      <td>NaN</td>\n",
       "      <td>8.0</td>\n",
       "      <td>12</td>\n",
       "      <td>2.0</td>\n",
       "    </tr>\n",
       "  </tbody>\n",
       "</table>\n",
       "</div>"
      ],
      "text/plain": [
       "year                                  2007  2008  2009  2010  2011\n",
       "                               month                              \n",
       "number of days with activities 1       4.0   6.0   NaN     6   9.0\n",
       "                               2       2.0   NaN   NaN     3   NaN\n",
       "                               3       2.0   3.0   NaN     9  11.0\n",
       "                               4       1.0   2.0   1.0    10   6.0\n",
       "                               5       NaN   NaN   1.0     9   NaN\n",
       "                               6       NaN   NaN   NaN     5   NaN\n",
       "                               7       1.0   1.0   4.0     5   NaN\n",
       "                               8       NaN   NaN   8.0     9   NaN\n",
       "                               9       NaN   NaN   2.0     5   4.0\n",
       "                               10      2.0   NaN  10.0     7   2.0\n",
       "                               11      NaN   1.0  12.0     1   1.0\n",
       "                               12      NaN   NaN   8.0    12   2.0"
      ]
     },
     "execution_count": 59,
     "metadata": {},
     "output_type": "execute_result"
    }
   ],
   "source": [
    "cnt.T.stack()"
   ]
  },
  {
   "cell_type": "code",
   "execution_count": 60,
   "metadata": {},
   "outputs": [],
   "source": [
    "dat=cnt.T.stack().loc['number of days with activities']"
   ]
  },
  {
   "cell_type": "markdown",
   "metadata": {},
   "source": [
    "建立含有色票序列的物件，等會以此色票序列畫熱圖："
   ]
  },
  {
   "cell_type": "code",
   "execution_count": 61,
   "metadata": {},
   "outputs": [
    {
     "data": {
      "image/png": "[encoded data removed]",
      "text/plain": [
       "<matplotlib.figure.Figure at 0x108db5e10>"
      ]
     },
     "metadata": {},
     "output_type": "display_data"
    }
   ],
   "source": [
    "sns.palplot(sns.cubehelix_palette(8, start=.5, rot=-.75))"
   ]
  },
  {
   "cell_type": "code",
   "execution_count": 62,
   "metadata": {},
   "outputs": [],
   "source": [
    "s=sns.cubehelix_palette(8, start=.5, rot=-.75,as_cmap=True)"
   ]
  },
  {
   "cell_type": "markdown",
   "metadata": {},
   "source": [
    "將資料轉置，因為我們想要畫月份於x軸："
   ]
  },
  {
   "cell_type": "code",
   "execution_count": 63,
   "metadata": {},
   "outputs": [
    {
     "data": {
      "text/html": [
       "<div>\n",
       "<table border=\"1\" class=\"dataframe\">\n",
       "  <thead>\n",
       "    <tr style=\"text-align: right;\">\n",
       "      <th>month</th>\n",
       "      <th>1</th>\n",
       "      <th>2</th>\n",
       "      <th>3</th>\n",
       "      <th>4</th>\n",
       "      <th>5</th>\n",
       "      <th>6</th>\n",
       "      <th>7</th>\n",
       "      <th>8</th>\n",
       "      <th>9</th>\n",
       "      <th>10</th>\n",
       "      <th>11</th>\n",
       "      <th>12</th>\n",
       "    </tr>\n",
       "    <tr>\n",
       "      <th>year</th>\n",
       "      <th></th>\n",
       "      <th></th>\n",
       "      <th></th>\n",
       "      <th></th>\n",
       "      <th></th>\n",
       "      <th></th>\n",
       "      <th></th>\n",
       "      <th></th>\n",
       "      <th></th>\n",
       "      <th></th>\n",
       "      <th></th>\n",
       "      <th></th>\n",
       "    </tr>\n",
       "  </thead>\n",
       "  <tbody>\n",
       "    <tr>\n",
       "      <th>2007</th>\n",
       "      <td>4.0</td>\n",
       "      <td>2.0</td>\n",
       "      <td>2.0</td>\n",
       "      <td>1.0</td>\n",
       "      <td>NaN</td>\n",
       "      <td>NaN</td>\n",
       "      <td>1.0</td>\n",
       "      <td>NaN</td>\n",
       "      <td>NaN</td>\n",
       "      <td>2.0</td>\n",
       "      <td>NaN</td>\n",
       "      <td>NaN</td>\n",
       "    </tr>\n",
       "    <tr>\n",
       "      <th>2008</th>\n",
       "      <td>6.0</td>\n",
       "      <td>NaN</td>\n",
       "      <td>3.0</td>\n",
       "      <td>2.0</td>\n",
       "      <td>NaN</td>\n",
       "      <td>NaN</td>\n",
       "      <td>1.0</td>\n",
       "      <td>NaN</td>\n",
       "      <td>NaN</td>\n",
       "      <td>NaN</td>\n",
       "      <td>1.0</td>\n",
       "      <td>NaN</td>\n",
       "    </tr>\n",
       "    <tr>\n",
       "      <th>2009</th>\n",
       "      <td>NaN</td>\n",
       "      <td>NaN</td>\n",
       "      <td>NaN</td>\n",
       "      <td>1.0</td>\n",
       "      <td>1.0</td>\n",
       "      <td>NaN</td>\n",
       "      <td>4.0</td>\n",
       "      <td>8.0</td>\n",
       "      <td>2.0</td>\n",
       "      <td>10.0</td>\n",
       "      <td>12.0</td>\n",
       "      <td>8.0</td>\n",
       "    </tr>\n",
       "    <tr>\n",
       "      <th>2010</th>\n",
       "      <td>6.0</td>\n",
       "      <td>3.0</td>\n",
       "      <td>9.0</td>\n",
       "      <td>10.0</td>\n",
       "      <td>9.0</td>\n",
       "      <td>5.0</td>\n",
       "      <td>5.0</td>\n",
       "      <td>9.0</td>\n",
       "      <td>5.0</td>\n",
       "      <td>7.0</td>\n",
       "      <td>1.0</td>\n",
       "      <td>12.0</td>\n",
       "    </tr>\n",
       "    <tr>\n",
       "      <th>2011</th>\n",
       "      <td>9.0</td>\n",
       "      <td>NaN</td>\n",
       "      <td>11.0</td>\n",
       "      <td>6.0</td>\n",
       "      <td>NaN</td>\n",
       "      <td>NaN</td>\n",
       "      <td>NaN</td>\n",
       "      <td>NaN</td>\n",
       "      <td>4.0</td>\n",
       "      <td>2.0</td>\n",
       "      <td>1.0</td>\n",
       "      <td>2.0</td>\n",
       "    </tr>\n",
       "  </tbody>\n",
       "</table>\n",
       "</div>"
      ],
      "text/plain": [
       "month   1    2     3     4    5    6    7    8    9     10    11    12\n",
       "year                                                                  \n",
       "2007   4.0  2.0   2.0   1.0  NaN  NaN  1.0  NaN  NaN   2.0   NaN   NaN\n",
       "2008   6.0  NaN   3.0   2.0  NaN  NaN  1.0  NaN  NaN   NaN   1.0   NaN\n",
       "2009   NaN  NaN   NaN   1.0  1.0  NaN  4.0  8.0  2.0  10.0  12.0   8.0\n",
       "2010   6.0  3.0   9.0  10.0  9.0  5.0  5.0  9.0  5.0   7.0   1.0  12.0\n",
       "2011   9.0  NaN  11.0   6.0  NaN  NaN  NaN  NaN  4.0   2.0   1.0   2.0"
      ]
     },
     "execution_count": 63,
     "metadata": {},
     "output_type": "execute_result"
    }
   ],
   "source": [
    "dat.T"
   ]
  },
  {
   "cell_type": "code",
   "execution_count": 64,
   "metadata": {},
   "outputs": [
    {
     "data": {
      "image/png": "[encoded data removed]",
      "text/plain": [
       "<matplotlib.figure.Figure at 0x10900e828>"
      ]
     },
     "metadata": {},
     "output_type": "display_data"
    }
   ],
   "source": [
    "fig,ax=plt.subplots(figsize=(10,10))\n",
    "ax = sns.heatmap(dat.T,cmap=s,square=True,cbar_kws={\"orientation\": \"horizontal\"})"
   ]
  },
  {
   "cell_type": "markdown",
   "metadata": {},
   "source": [
    "亦或可將此資料重新以長條圖呈現，只是可能仍然沒有熱圖易懂："
   ]
  },
  {
   "cell_type": "code",
   "execution_count": 65,
   "metadata": {},
   "outputs": [
    {
     "data": {
      "text/plain": [
       "<matplotlib.axes._subplots.AxesSubplot at 0x10939c240>"
      ]
     },
     "execution_count": 65,
     "metadata": {},
     "output_type": "execute_result"
    },
    {
     "data": {
      "image/png": "[encoded data removed]",
      "text/plain": [
       "<matplotlib.figure.Figure at 0x108dc16d8>"
      ]
     },
     "metadata": {},
     "output_type": "display_data"
    }
   ],
   "source": [
    "dat.plot.bar(figsize=(12,5))"
   ]
  },
  {
   "cell_type": "markdown",
   "metadata": {},
   "source": [
    "---"
   ]
  },
  {
   "cell_type": "markdown",
   "metadata": {},
   "source": [
    "問： <font color='darkred'> 一個DataFrame附加(append)至另一個DataFrame</font>與<font color='darkred'>一個清單附加至另一個清單</font>，哪一個方式較快？"
   ]
  },
  {
   "cell_type": "code",
   "execution_count": 66,
   "metadata": {
    "collapsed": true
   },
   "outputs": [],
   "source": [
    "df=pd.DataFrame([[1,2,3],[4,5,6],[7,8,9]])"
   ]
  },
  {
   "cell_type": "code",
   "execution_count": 67,
   "metadata": {
    "collapsed": true
   },
   "outputs": [],
   "source": [
    "df2=pd.DataFrame([[1,2,3],[4,5,6],[7,8,9]])"
   ]
  },
  {
   "cell_type": "code",
   "execution_count": 68,
   "metadata": {},
   "outputs": [
    {
     "name": "stdout",
     "output_type": "stream",
     "text": [
      "CPU times: user 1.38 s, sys: 20.6 ms, total: 1.41 s\n",
      "Wall time: 1.54 s\n"
     ]
    }
   ],
   "source": [
    "%%time\n",
    "for j in range(2000):\n",
    "    df=df.append(df2)"
   ]
  },
  {
   "cell_type": "code",
   "execution_count": 69,
   "metadata": {},
   "outputs": [],
   "source": [
    "lst1=[[1,2,3],[4,5,6],[7,8,9]]"
   ]
  },
  {
   "cell_type": "code",
   "execution_count": 70,
   "metadata": {
    "collapsed": true
   },
   "outputs": [],
   "source": [
    "lst2=[[1,2,3],[4,5,6],[7,8,9]]"
   ]
  },
  {
   "cell_type": "code",
   "execution_count": 71,
   "metadata": {},
   "outputs": [
    {
     "name": "stdout",
     "output_type": "stream",
     "text": [
      "CPU times: user 11.2 ms, sys: 1.33 ms, total: 12.6 ms\n",
      "Wall time: 12.4 ms\n"
     ]
    }
   ],
   "source": [
    "%%time\n",
    "for j in range(2000):\n",
    "    for k in lst2:\n",
    "        lst1.append(k)\n",
    "\n",
    "#print(lst1)\n",
    "df=pd.DataFrame(lst1)"
   ]
  },
  {
   "cell_type": "markdown",
   "metadata": {},
   "source": [
    "(DataFrame附加DataFrame的過程中，會產生新的DataFrame，用以放置原來的兩個DataFrame。這個多出來的步驟會減緩附加DataFrame的速度)"
   ]
  },
  {
   "cell_type": "code",
   "execution_count": null,
   "metadata": {
    "collapsed": true
   },
   "outputs": [],
   "source": []
  }
 ],
 "metadata": {
  "kernelspec": {
   "display_name": "Python 3",
   "language": "python",
   "name": "python3"
  },
  "language_info": {
   "codemirror_mode": {
    "name": "ipython",
    "version": 3
   },
   "file_extension": ".py",
   "mimetype": "text/x-python",
   "name": "python",
   "nbconvert_exporter": "python",
   "pygments_lexer": "ipython3",
   "version": "3.5.2"
  }
 },
 "nbformat": 4,
 "nbformat_minor": 2
}
